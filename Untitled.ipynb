{
 "cells": [
  {
   "cell_type": "code",
   "execution_count": 2,
   "id": "cfac2d50",
   "metadata": {},
   "outputs": [],
   "source": [
    "import os\n",
    "os.environ['OPENAI_API_KEY'] = \"sk-proj-oT6PyIMBINulYxjQMKfrT3BlbkFJCWb7E9Zb4UCP3liozd4c\""
   ]
  },
  {
   "cell_type": "code",
   "execution_count": 3,
   "id": "c4267ead",
   "metadata": {},
   "outputs": [
    {
     "name": "stdout",
     "output_type": "stream",
     "text": [
      "Collecting langchain\n",
      "  Obtaining dependency information for langchain from https://files.pythonhosted.org/packages/ff/39/62b8d2eb468a3b924c6bd1e411ef969c340130f4833abee35c15f0df421b/langchain-0.2.1-py3-none-any.whl.metadata\n",
      "  Downloading langchain-0.2.1-py3-none-any.whl.metadata (13 kB)\n",
      "Requirement already satisfied: PyYAML>=5.3 in c:\\users\\msi katana\\anaconda3\\lib\\site-packages (from langchain) (6.0)\n",
      "Requirement already satisfied: SQLAlchemy<3,>=1.4 in c:\\users\\msi katana\\anaconda3\\lib\\site-packages (from langchain) (1.4.39)\n",
      "Requirement already satisfied: aiohttp<4.0.0,>=3.8.3 in c:\\users\\msi katana\\anaconda3\\lib\\site-packages (from langchain) (3.8.5)\n",
      "Collecting langchain-core<0.3.0,>=0.2.0 (from langchain)\n",
      "  Obtaining dependency information for langchain-core<0.3.0,>=0.2.0 from https://files.pythonhosted.org/packages/75/42/ca154c8c255b93e4acce84799a622d3fc7de372481e56dea12d0e4ca0bd5/langchain_core-0.2.3-py3-none-any.whl.metadata\n",
      "  Downloading langchain_core-0.2.3-py3-none-any.whl.metadata (5.9 kB)\n",
      "Collecting langchain-text-splitters<0.3.0,>=0.2.0 (from langchain)\n",
      "  Obtaining dependency information for langchain-text-splitters<0.3.0,>=0.2.0 from https://files.pythonhosted.org/packages/21/3f/84a4adc8838c3fda0fa38f71ec751365b8c8d058b8be7fbd779cb6e63e1b/langchain_text_splitters-0.2.0-py3-none-any.whl.metadata\n",
      "  Downloading langchain_text_splitters-0.2.0-py3-none-any.whl.metadata (2.2 kB)\n",
      "Collecting langsmith<0.2.0,>=0.1.17 (from langchain)\n",
      "  Obtaining dependency information for langsmith<0.2.0,>=0.1.17 from https://files.pythonhosted.org/packages/23/2d/c94729008248b49ab6a4d651a890c6396da3a77f0f2082b3441b2362cb9c/langsmith-0.1.67-py3-none-any.whl.metadata\n",
      "  Downloading langsmith-0.1.67-py3-none-any.whl.metadata (13 kB)\n",
      "Requirement already satisfied: numpy<2,>=1 in c:\\users\\msi katana\\anaconda3\\lib\\site-packages (from langchain) (1.24.3)\n",
      "Requirement already satisfied: pydantic<3,>=1 in c:\\users\\msi katana\\anaconda3\\lib\\site-packages (from langchain) (1.10.8)\n",
      "Requirement already satisfied: requests<3,>=2 in c:\\users\\msi katana\\anaconda3\\lib\\site-packages (from langchain) (2.31.0)\n",
      "Requirement already satisfied: tenacity<9.0.0,>=8.1.0 in c:\\users\\msi katana\\anaconda3\\lib\\site-packages (from langchain) (8.2.2)\n",
      "Requirement already satisfied: attrs>=17.3.0 in c:\\users\\msi katana\\anaconda3\\lib\\site-packages (from aiohttp<4.0.0,>=3.8.3->langchain) (22.1.0)\n",
      "Requirement already satisfied: charset-normalizer<4.0,>=2.0 in c:\\users\\msi katana\\anaconda3\\lib\\site-packages (from aiohttp<4.0.0,>=3.8.3->langchain) (2.0.4)\n",
      "Requirement already satisfied: multidict<7.0,>=4.5 in c:\\users\\msi katana\\anaconda3\\lib\\site-packages (from aiohttp<4.0.0,>=3.8.3->langchain) (6.0.2)\n",
      "Requirement already satisfied: async-timeout<5.0,>=4.0.0a3 in c:\\users\\msi katana\\anaconda3\\lib\\site-packages (from aiohttp<4.0.0,>=3.8.3->langchain) (4.0.2)\n",
      "Requirement already satisfied: yarl<2.0,>=1.0 in c:\\users\\msi katana\\anaconda3\\lib\\site-packages (from aiohttp<4.0.0,>=3.8.3->langchain) (1.8.1)\n",
      "Requirement already satisfied: frozenlist>=1.1.1 in c:\\users\\msi katana\\anaconda3\\lib\\site-packages (from aiohttp<4.0.0,>=3.8.3->langchain) (1.3.3)\n",
      "Requirement already satisfied: aiosignal>=1.1.2 in c:\\users\\msi katana\\anaconda3\\lib\\site-packages (from aiohttp<4.0.0,>=3.8.3->langchain) (1.2.0)\n",
      "Collecting jsonpatch<2.0,>=1.33 (from langchain-core<0.3.0,>=0.2.0->langchain)\n",
      "  Obtaining dependency information for jsonpatch<2.0,>=1.33 from https://files.pythonhosted.org/packages/73/07/02e16ed01e04a374e644b575638ec7987ae846d25ad97bcc9945a3ee4b0e/jsonpatch-1.33-py2.py3-none-any.whl.metadata\n",
      "  Downloading jsonpatch-1.33-py2.py3-none-any.whl.metadata (3.0 kB)\n",
      "Collecting packaging<24.0,>=23.2 (from langchain-core<0.3.0,>=0.2.0->langchain)\n",
      "  Obtaining dependency information for packaging<24.0,>=23.2 from https://files.pythonhosted.org/packages/ec/1a/610693ac4ee14fcdf2d9bf3c493370e4f2ef7ae2e19217d7a237ff42367d/packaging-23.2-py3-none-any.whl.metadata\n",
      "  Downloading packaging-23.2-py3-none-any.whl.metadata (3.2 kB)\n",
      "Collecting orjson<4.0.0,>=3.9.14 (from langsmith<0.2.0,>=0.1.17->langchain)\n",
      "  Obtaining dependency information for orjson<4.0.0,>=3.9.14 from https://files.pythonhosted.org/packages/f9/b7/3815984df03b677644c90cd4893d6293c80ef1c9f3a8493807bc1eb47da7/orjson-3.10.3-cp311-none-win_amd64.whl.metadata\n",
      "  Downloading orjson-3.10.3-cp311-none-win_amd64.whl.metadata (50 kB)\n",
      "     ---------------------------------------- 0.0/50.9 kB ? eta -:--:--\n",
      "     ---------------------------------------- 0.0/50.9 kB ? eta -:--:--\n",
      "     -------- ------------------------------- 10.2/50.9 kB ? eta -:--:--\n",
      "     ---------------------- --------------- 30.7/50.9 kB 435.7 kB/s eta 0:00:01\n",
      "     ---------------------- --------------- 30.7/50.9 kB 435.7 kB/s eta 0:00:01\n",
      "     ---------------------- --------------- 30.7/50.9 kB 435.7 kB/s eta 0:00:01\n",
      "     -------------------------------------- 50.9/50.9 kB 185.8 kB/s eta 0:00:00\n",
      "Requirement already satisfied: typing-extensions>=4.2.0 in c:\\users\\msi katana\\anaconda3\\lib\\site-packages (from pydantic<3,>=1->langchain) (4.7.1)\n",
      "Requirement already satisfied: idna<4,>=2.5 in c:\\users\\msi katana\\anaconda3\\lib\\site-packages (from requests<3,>=2->langchain) (3.4)\n",
      "Requirement already satisfied: urllib3<3,>=1.21.1 in c:\\users\\msi katana\\anaconda3\\lib\\site-packages (from requests<3,>=2->langchain) (1.26.16)\n",
      "Requirement already satisfied: certifi>=2017.4.17 in c:\\users\\msi katana\\anaconda3\\lib\\site-packages (from requests<3,>=2->langchain) (2023.7.22)\n",
      "Requirement already satisfied: greenlet!=0.4.17 in c:\\users\\msi katana\\anaconda3\\lib\\site-packages (from SQLAlchemy<3,>=1.4->langchain) (2.0.1)\n",
      "Requirement already satisfied: jsonpointer>=1.9 in c:\\users\\msi katana\\anaconda3\\lib\\site-packages (from jsonpatch<2.0,>=1.33->langchain-core<0.3.0,>=0.2.0->langchain) (2.1)\n",
      "Downloading langchain-0.2.1-py3-none-any.whl (973 kB)\n",
      "   ---------------------------------------- 0.0/973.5 kB ? eta -:--:--\n",
      "   - ------------------------------------- 30.7/973.5 kB 660.6 kB/s eta 0:00:02\n",
      "   -- ------------------------------------ 61.4/973.5 kB 825.8 kB/s eta 0:00:02\n",
      "   -- ------------------------------------ 71.7/973.5 kB 787.7 kB/s eta 0:00:02\n",
      "   -- ------------------------------------ 71.7/973.5 kB 787.7 kB/s eta 0:00:02\n",
      "   -- ------------------------------------ 71.7/973.5 kB 787.7 kB/s eta 0:00:02\n",
      "   ---- --------------------------------- 112.6/973.5 kB 409.6 kB/s eta 0:00:03\n",
      "   ----- -------------------------------- 153.6/973.5 kB 482.7 kB/s eta 0:00:02\n",
      "   ------- ------------------------------ 204.8/973.5 kB 567.2 kB/s eta 0:00:02\n",
      "   ------- ------------------------------ 204.8/973.5 kB 567.2 kB/s eta 0:00:02\n",
      "   ------- ------------------------------ 204.8/973.5 kB 567.2 kB/s eta 0:00:02\n",
      "   --------- ---------------------------- 235.5/973.5 kB 465.5 kB/s eta 0:00:02\n",
      "   ---------- --------------------------- 276.5/973.5 kB 501.4 kB/s eta 0:00:02\n",
      "   ------------- ------------------------ 337.9/973.5 kB 552.6 kB/s eta 0:00:02\n",
      "   --------------- ---------------------- 389.1/973.5 kB 606.2 kB/s eta 0:00:01\n",
      "   ---------------- --------------------- 430.1/973.5 kB 624.8 kB/s eta 0:00:01\n",
      "   ------------------ ------------------- 481.3/973.5 kB 670.0 kB/s eta 0:00:01\n",
      "   ------------------- ------------------ 512.0/973.5 kB 655.9 kB/s eta 0:00:01\n",
      "   --------------------- ---------------- 563.2/973.5 kB 667.8 kB/s eta 0:00:01\n",
      "   ----------------------- -------------- 614.4/973.5 kB 703.3 kB/s eta 0:00:01\n",
      "   ------------------------- ------------ 665.6/973.5 kB 710.8 kB/s eta 0:00:01\n",
      "   --------------------------- ---------- 716.8/973.5 kB 741.4 kB/s eta 0:00:01\n",
      "   ------------------------------ ------- 788.5/973.5 kB 778.2 kB/s eta 0:00:01\n",
      "   -------------------------------- ----- 829.4/973.5 kB 782.4 kB/s eta 0:00:01\n",
      "   ---------------------------------- --- 880.6/973.5 kB 796.3 kB/s eta 0:00:01\n",
      "   ----------------------------------- -- 911.4/973.5 kB 801.0 kB/s eta 0:00:01\n",
      "   -------------------------------------  972.8/973.5 kB 821.3 kB/s eta 0:00:01\n",
      "   -------------------------------------- 973.5/973.5 kB 811.5 kB/s eta 0:00:00\n",
      "Downloading langchain_core-0.2.3-py3-none-any.whl (310 kB)\n",
      "   ---------------------------------------- 0.0/310.2 kB ? eta -:--:--\n",
      "   --- ------------------------------------ 30.7/310.2 kB ? eta -:--:--\n",
      "   --------- ------------------------------ 71.7/310.2 kB 1.3 MB/s eta 0:00:01\n",
      "   --------------- ------------------------ 122.9/310.2 kB 1.2 MB/s eta 0:00:01\n",
      "   ---------------------- ----------------- 174.1/310.2 kB 1.2 MB/s eta 0:00:01\n",
      "   ------------------------------ --------- 235.5/310.2 kB 1.2 MB/s eta 0:00:01\n",
      "   ------------------------------------ --- 286.7/310.2 kB 1.2 MB/s eta 0:00:01\n",
      "   ---------------------------------------- 310.2/310.2 kB 1.1 MB/s eta 0:00:00\n",
      "Downloading langchain_text_splitters-0.2.0-py3-none-any.whl (23 kB)\n",
      "Downloading langsmith-0.1.67-py3-none-any.whl (124 kB)\n",
      "   ---------------------------------------- 0.0/124.4 kB ? eta -:--:--\n",
      "   ------------- -------------------------- 41.0/124.4 kB 1.9 MB/s eta 0:00:01\n",
      "   ----------------------------- ---------- 92.2/124.4 kB 1.3 MB/s eta 0:00:01\n",
      "   ---------------------------------------- 124.4/124.4 kB 1.2 MB/s eta 0:00:00\n",
      "Downloading jsonpatch-1.33-py2.py3-none-any.whl (12 kB)\n",
      "Downloading orjson-3.10.3-cp311-none-win_amd64.whl (138 kB)\n",
      "   ---------------------------------------- 0.0/138.8 kB ? eta -:--:--\n",
      "   ----------- ---------------------------- 41.0/138.8 kB 1.9 MB/s eta 0:00:01\n",
      "   -------------------------- ------------- 92.2/138.8 kB 1.3 MB/s eta 0:00:01\n",
      "   ---------------------------------------- 138.8/138.8 kB 1.2 MB/s eta 0:00:00\n",
      "Downloading packaging-23.2-py3-none-any.whl (53 kB)\n",
      "   ---------------------------------------- 0.0/53.0 kB ? eta -:--:--\n",
      "   -------------------------------------- - 51.2/53.0 kB 2.7 MB/s eta 0:00:01\n",
      "   ---------------------------------------- 53.0/53.0 kB 1.4 MB/s eta 0:00:00\n",
      "Installing collected packages: packaging, orjson, jsonpatch, langsmith, langchain-core, langchain-text-splitters, langchain\n",
      "  Attempting uninstall: packaging\n",
      "    Found existing installation: packaging 23.1\n",
      "    Uninstalling packaging-23.1:\n",
      "      Successfully uninstalled packaging-23.1\n",
      "  Attempting uninstall: jsonpatch\n",
      "    Found existing installation: jsonpatch 1.32\n",
      "    Uninstalling jsonpatch-1.32:\n",
      "      Successfully uninstalled jsonpatch-1.32\n",
      "Successfully installed jsonpatch-1.33 langchain-0.2.1 langchain-core-0.2.3 langchain-text-splitters-0.2.0 langsmith-0.1.67 orjson-3.10.3 packaging-23.2\n"
     ]
    },
    {
     "name": "stderr",
     "output_type": "stream",
     "text": [
      "ERROR: pip's dependency resolver does not currently take into account all the packages that are installed. This behaviour is the source of the following dependency conflicts.\n",
      "tables 3.8.0 requires blosc2~=2.0.0, which is not installed.\n",
      "tables 3.8.0 requires cython>=0.29.21, which is not installed.\n",
      "python-lsp-black 1.2.1 requires black>=22.3.0, but you have black 0.0 which is incompatible.\n"
     ]
    }
   ],
   "source": [
    "!pip install langchain"
   ]
  },
  {
   "cell_type": "code",
   "execution_count": 5,
   "id": "24a5b5ca",
   "metadata": {},
   "outputs": [
    {
     "name": "stdout",
     "output_type": "stream",
     "text": [
      "LangChain has been installed successfully!\n"
     ]
    }
   ],
   "source": [
    "import langchain\n",
    "print(\"LangChain has been installed successfully!\")"
   ]
  },
  {
   "cell_type": "code",
   "execution_count": null,
   "id": "38e379e1",
   "metadata": {},
   "outputs": [],
   "source": [
    "!pip install langchain_community"
   ]
  },
  {
   "cell_type": "code",
   "execution_count": null,
   "id": "c278c880",
   "metadata": {},
   "outputs": [],
   "source": []
  }
 ],
 "metadata": {
  "kernelspec": {
   "display_name": "Python 3 (ipykernel)",
   "language": "python",
   "name": "python3"
  },
  "language_info": {
   "codemirror_mode": {
    "name": "ipython",
    "version": 3
   },
   "file_extension": ".py",
   "mimetype": "text/x-python",
   "name": "python",
   "nbconvert_exporter": "python",
   "pygments_lexer": "ipython3",
   "version": "3.11.5"
  }
 },
 "nbformat": 4,
 "nbformat_minor": 5
}
