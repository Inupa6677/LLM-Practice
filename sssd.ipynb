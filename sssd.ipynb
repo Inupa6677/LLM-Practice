{
 "cells": [
  {
   "cell_type": "code",
   "execution_count": 2,
   "id": "e8ddc4bc",
   "metadata": {},
   "outputs": [
    {
     "name": "stdout",
     "output_type": "stream",
     "text": [
      "Requirement already satisfied: requests in c:\\users\\msi katana\\anaconda3\\lib\\site-packages (2.31.0)\n",
      "Requirement already satisfied: beautifulsoup4 in c:\\users\\msi katana\\anaconda3\\lib\\site-packages (4.12.2)\n",
      "Requirement already satisfied: pandas in c:\\users\\msi katana\\anaconda3\\lib\\site-packages (2.0.3)\n",
      "Requirement already satisfied: openpyxl in c:\\users\\msi katana\\anaconda3\\lib\\site-packages (3.0.10)\n",
      "Requirement already satisfied: charset-normalizer<4,>=2 in c:\\users\\msi katana\\anaconda3\\lib\\site-packages (from requests) (2.0.4)\n",
      "Requirement already satisfied: idna<4,>=2.5 in c:\\users\\msi katana\\anaconda3\\lib\\site-packages (from requests) (3.4)\n",
      "Requirement already satisfied: urllib3<3,>=1.21.1 in c:\\users\\msi katana\\anaconda3\\lib\\site-packages (from requests) (1.26.16)\n",
      "Requirement already satisfied: certifi>=2017.4.17 in c:\\users\\msi katana\\anaconda3\\lib\\site-packages (from requests) (2023.7.22)\n",
      "Requirement already satisfied: soupsieve>1.2 in c:\\users\\msi katana\\anaconda3\\lib\\site-packages (from beautifulsoup4) (2.4)\n",
      "Requirement already satisfied: python-dateutil>=2.8.2 in c:\\users\\msi katana\\anaconda3\\lib\\site-packages (from pandas) (2.8.2)\n",
      "Requirement already satisfied: pytz>=2020.1 in c:\\users\\msi katana\\anaconda3\\lib\\site-packages (from pandas) (2023.3.post1)\n",
      "Requirement already satisfied: tzdata>=2022.1 in c:\\users\\msi katana\\anaconda3\\lib\\site-packages (from pandas) (2023.3)\n",
      "Requirement already satisfied: numpy>=1.21.0 in c:\\users\\msi katana\\anaconda3\\lib\\site-packages (from pandas) (1.24.3)\n",
      "Requirement already satisfied: et_xmlfile in c:\\users\\msi katana\\anaconda3\\lib\\site-packages (from openpyxl) (1.1.0)\n",
      "Requirement already satisfied: six>=1.5 in c:\\users\\msi katana\\anaconda3\\lib\\site-packages (from python-dateutil>=2.8.2->pandas) (1.16.0)\n"
     ]
    }
   ],
   "source": [
    "!pip install requests beautifulsoup4 pandas openpyxl"
   ]
  },
  {
   "cell_type": "code",
   "execution_count": 3,
   "id": "7305c752",
   "metadata": {},
   "outputs": [],
   "source": [
    "import requests\n",
    "from bs4 import BeautifulSoup\n",
    "import pandas as pd\n",
    "\n",
    "# Function to scrape data from a single page\n",
    "def scrape_page(url):\n",
    "    response = requests.get(url)\n",
    "    soup = BeautifulSoup(response.content, 'html.parser')\n",
    "    \n",
    "    # Modify the following lines according to the website's structure\n",
    "    faculties = soup.find_all('div', class_='faculty')  # Example class\n",
    "    data = []\n",
    "\n",
    "    for faculty in faculties:\n",
    "        faculty_name = faculty.find('h2').text.strip()\n",
    "        programs = faculty.find_all('div', class_='program')  # Example class\n",
    "        \n",
    "        for program in programs:\n",
    "            program_name = program.find('h3').text.strip()\n",
    "            courses = [course.text.strip() for course in program.find_all('li')]\n",
    "            \n",
    "            for course in courses:\n",
    "                data.append({\n",
    "                    'Faculty': faculty_name,\n",
    "                    'Program': program_name,\n",
    "                    'Course': course\n",
    "                })\n",
    "    \n",
    "    return data\n",
    "\n",
    "# List of URLs to scrape\n",
    "urls = [\n",
    "    'https://arts.cmb.ac.lk/1st-year-in-arts/?_gl=1*zw7smz*_ga*MTE1Nzk5MjQxMy4xNzE3NzUxNDE2*_ga_9NP480MYRZ*MTcxNzc1MTQxNS4xLjEuMTcxNzc1MjI4NC4zMy4wLjA.',\n",
    "    \n",
    "    # Add more URLs as needed\n",
    "]\n",
    "\n",
    "all_data = []\n",
    "\n",
    "# Scrape each page and accumulate the data\n",
    "for url in urls:\n",
    "    page_data = scrape_page(url)\n",
    "    all_data.extend(page_data)\n",
    "\n",
    "# Create a DataFrame\n",
    "df = pd.DataFrame(all_data)\n",
    "\n",
    "# Save to Excel\n",
    "df.to_excel('university_programs.xlsx', index=False)\n"
   ]
  },
  {
   "cell_type": "code",
   "execution_count": null,
   "id": "c5ba650c",
   "metadata": {},
   "outputs": [],
   "source": []
  }
 ],
 "metadata": {
  "kernelspec": {
   "display_name": "Python 3 (ipykernel)",
   "language": "python",
   "name": "python3"
  },
  "language_info": {
   "codemirror_mode": {
    "name": "ipython",
    "version": 3
   },
   "file_extension": ".py",
   "mimetype": "text/x-python",
   "name": "python",
   "nbconvert_exporter": "python",
   "pygments_lexer": "ipython3",
   "version": "3.11.5"
  }
 },
 "nbformat": 4,
 "nbformat_minor": 5
}
